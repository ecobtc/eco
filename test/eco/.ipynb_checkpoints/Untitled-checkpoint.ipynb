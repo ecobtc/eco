{
 "cells": [
  {
   "cell_type": "code",
   "execution_count": 6,
   "metadata": {
    "collapsed": true
   },
   "outputs": [],
   "source": [
    "from util import *\n",
    "rpc_user = 'admin'\n",
    "rpc_password = 'admin'\n",
    "rpc_port = '8337'\n",
    "node = Node(rpc_port, rpc_user, rpc_password)"
   ]
  },
  {
   "cell_type": "code",
   "execution_count": 7,
   "metadata": {
    "collapsed": false
   },
   "outputs": [],
   "source": [
    "block = node.getblock(1500)"
   ]
  },
  {
   "cell_type": "code",
   "execution_count": 8,
   "metadata": {
    "collapsed": false
   },
   "outputs": [],
   "source": [
    "sig = node.signfakeblock(block['coinbasesigner'], block['time'], block['merkleroot'], 1500, block['randomint'])"
   ]
  },
  {
   "cell_type": "code",
   "execution_count": 9,
   "metadata": {
    "collapsed": false
   },
   "outputs": [
    {
     "data": {
      "text/plain": [
       "{'bits': '1d00ffff',\n",
       " 'chainwork': '000000000000000000000000000000000000000000000000000005dd05dd05dd',\n",
       " 'coinbasesigner': '3G5HG5LU6ebpu4NSwWdKvcMhWCBewtEJeL',\n",
       " 'confirmations': 1451,\n",
       " 'difficulty': 1,\n",
       " 'hash': '6c2cc87e9410c08835561f57b1d113de8de2fa391ebac53173cec284222aaaab',\n",
       " 'height': 1500,\n",
       " 'mediantime': 1524624464,\n",
       " 'merkleroot': '45e08fa4650fed07849cdf6b8cdfd07bf590558e6d970e374488391cfdb97da7',\n",
       " 'nextblockhash': '15521a89de62c73e77ff074a256b3ae9b41662aac93c3c7ba73537ae177cb947',\n",
       " 'nonce': 0,\n",
       " 'previousblockhash': '380f2bbcdb124fa9355c27d14d1dc8bdfe1b17feb760e24c2053ceef4d8432ce',\n",
       " 'randomint': 10656890366137974723,\n",
       " 'size': 400,\n",
       " 'strippedsize': 400,\n",
       " 'time': 1524624601,\n",
       " 'tx': ['45e08fa4650fed07849cdf6b8cdfd07bf590558e6d970e374488391cfdb97da7'],\n",
       " 'version': 536870912,\n",
       " 'versionHex': '20000000',\n",
       " 'weight': 1600,\n",
       " 'witnessmerkleroot': '0000000000000000000000000000000000000000000000000000000000000000'}"
      ]
     },
     "execution_count": 9,
     "metadata": {},
     "output_type": "execute_result"
    }
   ],
   "source": [
    "block"
   ]
  },
  {
   "cell_type": "code",
   "execution_count": null,
   "metadata": {
    "collapsed": true
   },
   "outputs": [],
   "source": [
    "#postforkproof(self, address, root, time, height, randomInt, signature):\n",
    "node.postforkproof('3FJay69swpR4wjLmnqiWo58HybEkYXCCXA', block['merkleroot'], block['time'], 1500, block['randomint'],sig['signature'])"
   ]
  },
  {
   "cell_type": "code",
   "execution_count": 10,
   "metadata": {
    "collapsed": false
   },
   "outputs": [
    {
     "data": {
      "text/plain": [
       "<util.Node at 0x7f8be8195908>"
      ]
     },
     "execution_count": 10,
     "metadata": {},
     "output_type": "execute_result"
    }
   ],
   "source": [
    "node2 = Node(8334, rpc_user, rpc_password)\n",
    "node2.rpc_connection.get"
   ]
  },
  {
   "cell_type": "code",
   "execution_count": null,
   "metadata": {
    "collapsed": true
   },
   "outputs": [],
   "source": []
  }
 ],
 "metadata": {
  "kernelspec": {
   "display_name": "Python 3",
   "language": "python",
   "name": "python3"
  },
  "language_info": {
   "codemirror_mode": {
    "name": "ipython",
    "version": 3
   },
   "file_extension": ".py",
   "mimetype": "text/x-python",
   "name": "python",
   "nbconvert_exporter": "python",
   "pygments_lexer": "ipython3",
   "version": "3.6.3"
  }
 },
 "nbformat": 4,
 "nbformat_minor": 2
}
