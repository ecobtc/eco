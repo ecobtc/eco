{
 "cells": [
  {
   "cell_type": "code",
   "execution_count": 22,
   "metadata": {
    "collapsed": true
   },
   "outputs": [],
   "source": [
    "from util import *\n",
    "rpc_user = 'admin'\n",
    "rpc_password = 'admin'\n",
    "rpc_port = '8337'\n",
    "node = Node(rpc_port, rpc_user, rpc_password)"
   ]
  },
  {
   "cell_type": "code",
   "execution_count": 23,
   "metadata": {
    "collapsed": false
   },
   "outputs": [],
   "source": [
    "block = node.getblock(1500)"
   ]
  },
  {
   "cell_type": "code",
   "execution_count": 24,
   "metadata": {
    "collapsed": false
   },
   "outputs": [],
   "source": [
    "sig = node.signfakeblock(block['coinbasesigner'], block['time'], block['merkleroot'], 1500, block['randomint'])"
   ]
  },
  {
   "cell_type": "code",
   "execution_count": 25,
   "metadata": {
    "collapsed": false
   },
   "outputs": [
    {
     "data": {
      "text/plain": [
       "{'bits': '1d00ffff',\n",
       " 'chainwork': '000000000000000000000000000000000000000000000000000005dd05dd05dd',\n",
       " 'coinbasesigner': '3G5HG5LU6ebpu4NSwWdKvcMhWCBewtEJeL',\n",
       " 'confirmations': 1451,\n",
       " 'difficulty': 1,\n",
       " 'hash': '6c2cc87e9410c08835561f57b1d113de8de2fa391ebac53173cec284222aaaab',\n",
       " 'height': 1500,\n",
       " 'mediantime': 1524624464,\n",
       " 'merkleroot': '45e08fa4650fed07849cdf6b8cdfd07bf590558e6d970e374488391cfdb97da7',\n",
       " 'nextblockhash': '15521a89de62c73e77ff074a256b3ae9b41662aac93c3c7ba73537ae177cb947',\n",
       " 'nonce': 0,\n",
       " 'previousblockhash': '380f2bbcdb124fa9355c27d14d1dc8bdfe1b17feb760e24c2053ceef4d8432ce',\n",
       " 'randomint': 10656890366137974723,\n",
       " 'size': 400,\n",
       " 'strippedsize': 400,\n",
       " 'time': 1524624601,\n",
       " 'tx': ['45e08fa4650fed07849cdf6b8cdfd07bf590558e6d970e374488391cfdb97da7'],\n",
       " 'version': 536870912,\n",
       " 'versionHex': '20000000',\n",
       " 'weight': 1600,\n",
       " 'witnessmerkleroot': '0000000000000000000000000000000000000000000000000000000000000000'}"
      ]
     },
     "execution_count": 25,
     "metadata": {},
     "output_type": "execute_result"
    }
   ],
   "source": [
    "block"
   ]
  },
  {
   "cell_type": "code",
   "execution_count": 14,
   "metadata": {
    "collapsed": false
   },
   "outputs": [
    {
     "ename": "JSONRPCException",
     "evalue": "-1: JSON value is not a string as expected",
     "output_type": "error",
     "traceback": [
      "\u001b[0;31m---------------------------------------------------------------------------\u001b[0m",
      "\u001b[0;31mJSONRPCException\u001b[0m                          Traceback (most recent call last)",
      "\u001b[0;32m<ipython-input-14-d96cee9fbf7f>\u001b[0m in \u001b[0;36m<module>\u001b[0;34m()\u001b[0m\n\u001b[1;32m      1\u001b[0m \u001b[0;31m#postforkproof(self, address, root, time, height, randomInt, signature):\u001b[0m\u001b[0;34m\u001b[0m\u001b[0;34m\u001b[0m\u001b[0m\n\u001b[0;32m----> 2\u001b[0;31m \u001b[0mnode2\u001b[0m\u001b[0;34m.\u001b[0m\u001b[0mpostforkproof\u001b[0m\u001b[0;34m(\u001b[0m\u001b[0;34m'3FJay69swpR4wjLmnqiWo58HybEkYXCCXA'\u001b[0m\u001b[0;34m,\u001b[0m \u001b[0mblock\u001b[0m\u001b[0;34m[\u001b[0m\u001b[0;34m'merkleroot'\u001b[0m\u001b[0;34m]\u001b[0m\u001b[0;34m,\u001b[0m \u001b[0mblock\u001b[0m\u001b[0;34m[\u001b[0m\u001b[0;34m'time'\u001b[0m\u001b[0;34m]\u001b[0m\u001b[0;34m,\u001b[0m \u001b[0;36m1500\u001b[0m\u001b[0;34m,\u001b[0m \u001b[0mblock\u001b[0m\u001b[0;34m[\u001b[0m\u001b[0;34m'randomint'\u001b[0m\u001b[0;34m]\u001b[0m\u001b[0;34m,\u001b[0m\u001b[0msig\u001b[0m\u001b[0;34m[\u001b[0m\u001b[0;34m'signature'\u001b[0m\u001b[0;34m]\u001b[0m\u001b[0;34m)\u001b[0m\u001b[0;34m\u001b[0m\u001b[0m\n\u001b[0m",
      "\u001b[0;32m/home/octavio/eee/bitcoin/test/eco/util.py\u001b[0m in \u001b[0;36mpostforkproof\u001b[0;34m(self, address, root, time, height, randomInt, signature)\u001b[0m\n\u001b[1;32m     61\u001b[0m \u001b[0;34m\u001b[0m\u001b[0m\n\u001b[1;32m     62\u001b[0m     \u001b[0;32mdef\u001b[0m \u001b[0mpostforkproof\u001b[0m\u001b[0;34m(\u001b[0m\u001b[0mself\u001b[0m\u001b[0;34m,\u001b[0m \u001b[0maddress\u001b[0m\u001b[0;34m,\u001b[0m \u001b[0mroot\u001b[0m\u001b[0;34m,\u001b[0m \u001b[0mtime\u001b[0m\u001b[0;34m,\u001b[0m \u001b[0mheight\u001b[0m\u001b[0;34m,\u001b[0m \u001b[0mrandomInt\u001b[0m\u001b[0;34m,\u001b[0m \u001b[0msignature\u001b[0m\u001b[0;34m)\u001b[0m\u001b[0;34m:\u001b[0m\u001b[0;34m\u001b[0m\u001b[0m\n\u001b[0;32m---> 63\u001b[0;31m         \u001b[0;32mreturn\u001b[0m \u001b[0mself\u001b[0m\u001b[0;34m.\u001b[0m\u001b[0mrpc_connection\u001b[0m\u001b[0;34m.\u001b[0m\u001b[0mpostforkproof\u001b[0m\u001b[0;34m(\u001b[0m\u001b[0maddress\u001b[0m\u001b[0;34m,\u001b[0m \u001b[0mroot\u001b[0m\u001b[0;34m,\u001b[0m \u001b[0mtime\u001b[0m\u001b[0;34m,\u001b[0m \u001b[0mheight\u001b[0m\u001b[0;34m,\u001b[0m \u001b[0mrandomInt\u001b[0m\u001b[0;34m,\u001b[0m \u001b[0msignature\u001b[0m\u001b[0;34m)\u001b[0m\u001b[0;34m\u001b[0m\u001b[0m\n\u001b[0m",
      "\u001b[0;32m/usr/local/lib/python3.6/dist-packages/bitcoinrpc/authproxy.py\u001b[0m in \u001b[0;36m__call__\u001b[0;34m(self, *args)\u001b[0m\n\u001b[1;32m    139\u001b[0m         \u001b[0mresponse\u001b[0m \u001b[0;34m=\u001b[0m \u001b[0mself\u001b[0m\u001b[0;34m.\u001b[0m\u001b[0m_get_response\u001b[0m\u001b[0;34m(\u001b[0m\u001b[0;34m)\u001b[0m\u001b[0;34m\u001b[0m\u001b[0m\n\u001b[1;32m    140\u001b[0m         \u001b[0;32mif\u001b[0m \u001b[0mresponse\u001b[0m\u001b[0;34m.\u001b[0m\u001b[0mget\u001b[0m\u001b[0;34m(\u001b[0m\u001b[0;34m'error'\u001b[0m\u001b[0;34m)\u001b[0m \u001b[0;32mis\u001b[0m \u001b[0;32mnot\u001b[0m \u001b[0;32mNone\u001b[0m\u001b[0;34m:\u001b[0m\u001b[0;34m\u001b[0m\u001b[0m\n\u001b[0;32m--> 141\u001b[0;31m             \u001b[0;32mraise\u001b[0m \u001b[0mJSONRPCException\u001b[0m\u001b[0;34m(\u001b[0m\u001b[0mresponse\u001b[0m\u001b[0;34m[\u001b[0m\u001b[0;34m'error'\u001b[0m\u001b[0;34m]\u001b[0m\u001b[0;34m)\u001b[0m\u001b[0;34m\u001b[0m\u001b[0m\n\u001b[0m\u001b[1;32m    142\u001b[0m         \u001b[0;32melif\u001b[0m \u001b[0;34m'result'\u001b[0m \u001b[0;32mnot\u001b[0m \u001b[0;32min\u001b[0m \u001b[0mresponse\u001b[0m\u001b[0;34m:\u001b[0m\u001b[0;34m\u001b[0m\u001b[0m\n\u001b[1;32m    143\u001b[0m             raise JSONRPCException({\n",
      "\u001b[0;31mJSONRPCException\u001b[0m: -1: JSON value is not a string as expected"
     ]
    }
   ],
   "source": [
    "#postforkproof(self, address, root, time, height, randomInt, signature):\n"
   ]
  },
  {
   "cell_type": "code",
   "execution_count": 26,
   "metadata": {
    "collapsed": false
   },
   "outputs": [
    {
     "data": {
      "text/plain": [
       "'ea81b4f99e6481dbe81e3ccbff2b1fddf9d929d33eac81ee1a22094baef28caf'"
      ]
     },
     "execution_count": 26,
     "metadata": {},
     "output_type": "execute_result"
    }
   ],
   "source": [
    "node2 = Node(8334, rpc_user, rpc_password)\n",
    "node2.postforkproof('3FJay69swpR4wjLmnqiWo58HybEkYXCCXA', str(block['merkleroot']), block['time'], 1500, str(block['randomint']), str(sig['signature']))"
   ]
  },
  {
   "cell_type": "code",
   "execution_count": null,
   "metadata": {
    "collapsed": true
   },
   "outputs": [],
   "source": []
  }
 ],
 "metadata": {
  "kernelspec": {
   "display_name": "Python 3",
   "language": "python",
   "name": "python3"
  },
  "language_info": {
   "codemirror_mode": {
    "name": "ipython",
    "version": 3
   },
   "file_extension": ".py",
   "mimetype": "text/x-python",
   "name": "python",
   "nbconvert_exporter": "python",
   "pygments_lexer": "ipython3",
   "version": "3.6.3"
  }
 },
 "nbformat": 4,
 "nbformat_minor": 2
}
